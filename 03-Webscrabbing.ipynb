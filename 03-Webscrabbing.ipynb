{
 "metadata": {
  "language_info": {
   "codemirror_mode": {
    "name": "ipython",
    "version": 3
   },
   "file_extension": ".py",
   "mimetype": "text/x-python",
   "name": "python",
   "nbconvert_exporter": "python",
   "pygments_lexer": "ipython3",
   "version": "3.7.0-final"
  },
  "orig_nbformat": 2,
  "kernelspec": {
   "name": "python3",
   "display_name": "Python 3",
   "language": "python"
  }
 },
 "nbformat": 4,
 "nbformat_minor": 2,
 "cells": [
  {
   "source": [
    "# Webscrabbing"
   ],
   "cell_type": "markdown",
   "metadata": {}
  },
  {
   "cell_type": "code",
   "execution_count": 19,
   "metadata": {},
   "outputs": [],
   "source": [
    "import pandas as pd\n",
    "from iexfinance.stocks import Stock\n",
    "from datetime import datetime\n",
    "import matplotlib.pyplot as plt\n",
    "from iexfinance.stocks import get_historical_data"
   ]
  },
  {
   "cell_type": "code",
   "execution_count": 20,
   "metadata": {},
   "outputs": [],
   "source": [
    "#import csv from wiki with stock symbols\n",
    "table=pd.read_html('https://en.wikipedia.org/wiki/List_of_S%26P_500_companies')\n",
    "df = table[0]\n",
    "df.to_csv('S&P500-Info.csv')\n",
    "df.to_csv(\"S&P500-Symbols.csv\", columns=['Symbol'])\n",
    "\n",
    "sp = pd.read_csv('S&P500-Symbols.csv', index_col=[0])"
   ]
  },
  {
   "source": [
    "## Getting Company Info"
   ],
   "cell_type": "markdown",
   "metadata": {}
  },
  {
   "cell_type": "code",
   "execution_count": 21,
   "metadata": {},
   "outputs": [],
   "source": [
    "# getCompanyInfo returns a dictionary with the company symbol as a key and the info as the value\n",
    "# call to iex finance api to return company info for a list of symbols\n",
    "def getCompanyInfo(symbols):\n",
    "    stock_batch = Stock(symbols,token=b4a248cdd70d47e1b2050a4127e1fa91)\n",
    "    company_info = stock_batch.get_company()\n",
    "    return company_info"
   ]
  },
  {
   "cell_type": "code",
   "execution_count": 22,
   "metadata": {},
   "outputs": [
    {
     "output_type": "error",
     "ename": "NameError",
     "evalue": "name 'b4a248cdd70d47e1b2050a4127e1fa91' is not defined",
     "traceback": [
      "\u001b[1;31m---------------------------------------------------------------------------\u001b[0m",
      "\u001b[1;31mNameError\u001b[0m                                 Traceback (most recent call last)",
      "\u001b[1;32m<ipython-input-22-0edb51307416>\u001b[0m in \u001b[0;36m<module>\u001b[1;34m()\u001b[0m\n\u001b[1;32m----> 1\u001b[1;33m \u001b[0msp_company_info\u001b[0m \u001b[1;33m=\u001b[0m \u001b[0mgetCompanyInfo\u001b[0m\u001b[1;33m(\u001b[0m\u001b[0msp\u001b[0m\u001b[1;33m[\u001b[0m\u001b[1;34m\"Symbol\"\u001b[0m\u001b[1;33m]\u001b[0m\u001b[1;33m[\u001b[0m\u001b[1;33m:\u001b[0m\u001b[1;36m5\u001b[0m\u001b[1;33m]\u001b[0m\u001b[1;33m.\u001b[0m\u001b[0mtolist\u001b[0m\u001b[1;33m(\u001b[0m\u001b[1;33m)\u001b[0m\u001b[1;33m)\u001b[0m\u001b[1;33m\u001b[0m\u001b[0m\n\u001b[0m\u001b[0;32m      2\u001b[0m \u001b[1;33m\u001b[0m\u001b[0m\n\u001b[0;32m      3\u001b[0m \u001b[0mcompany_info_to_df\u001b[0m \u001b[1;33m=\u001b[0m \u001b[1;33m[\u001b[0m\u001b[1;33m]\u001b[0m\u001b[1;33m\u001b[0m\u001b[0m\n\u001b[0;32m      4\u001b[0m \u001b[1;32mfor\u001b[0m \u001b[0mcompany\u001b[0m \u001b[1;32min\u001b[0m \u001b[0msp_company_info\u001b[0m\u001b[1;33m:\u001b[0m\u001b[1;33m\u001b[0m\u001b[0m\n\u001b[0;32m      5\u001b[0m     \u001b[0mcompany_info_to_df\u001b[0m\u001b[1;33m.\u001b[0m\u001b[0mappend\u001b[0m\u001b[1;33m(\u001b[0m\u001b[0msp_company_info\u001b[0m\u001b[1;33m[\u001b[0m\u001b[0mcompany\u001b[0m\u001b[1;33m]\u001b[0m\u001b[1;33m)\u001b[0m\u001b[1;33m\u001b[0m\u001b[0m\n",
      "\u001b[1;32m<ipython-input-21-cebef342f915>\u001b[0m in \u001b[0;36mgetCompanyInfo\u001b[1;34m(symbols)\u001b[0m\n\u001b[0;32m      2\u001b[0m \u001b[1;31m# call to iex finance api to return company info for a list of symbols\u001b[0m\u001b[1;33m\u001b[0m\u001b[1;33m\u001b[0m\u001b[0m\n\u001b[0;32m      3\u001b[0m \u001b[1;32mdef\u001b[0m \u001b[0mgetCompanyInfo\u001b[0m\u001b[1;33m(\u001b[0m\u001b[0msymbols\u001b[0m\u001b[1;33m)\u001b[0m\u001b[1;33m:\u001b[0m\u001b[1;33m\u001b[0m\u001b[0m\n\u001b[1;32m----> 4\u001b[1;33m     \u001b[0mstock_batch\u001b[0m \u001b[1;33m=\u001b[0m \u001b[0mStock\u001b[0m\u001b[1;33m(\u001b[0m\u001b[0msymbols\u001b[0m\u001b[1;33m,\u001b[0m\u001b[0mtoken\u001b[0m\u001b[1;33m=\u001b[0m\u001b[0mb4a248cdd70d47e1b2050a4127e1fa91\u001b[0m\u001b[1;33m)\u001b[0m\u001b[1;33m\u001b[0m\u001b[0m\n\u001b[0m\u001b[0;32m      5\u001b[0m     \u001b[0mcompany_info\u001b[0m \u001b[1;33m=\u001b[0m \u001b[0mstock_batch\u001b[0m\u001b[1;33m.\u001b[0m\u001b[0mget_company\u001b[0m\u001b[1;33m(\u001b[0m\u001b[1;33m)\u001b[0m\u001b[1;33m\u001b[0m\u001b[0m\n\u001b[0;32m      6\u001b[0m     \u001b[1;32mreturn\u001b[0m \u001b[0mcompany_info\u001b[0m\u001b[1;33m\u001b[0m\u001b[0m\n",
      "\u001b[1;31mNameError\u001b[0m: name 'b4a248cdd70d47e1b2050a4127e1fa91' is not defined"
     ]
    }
   ],
   "source": [
    "sp_company_info = getCompanyInfo(sp[\"Symbol\"][:5].tolist())\n",
    "\n",
    "company_info_to_df = []\n",
    "for company in sp_company_info:\n",
    "    company_info_to_df.append(sp_company_info[company])\n",
    "\n",
    "columns = ['symbol', 'companyName', 'exchange','industry', 'website', 'CEO', 'sector']\n",
    "df = pd.DataFrame(company_info_to_df, columns=columns )\n",
    "df.head()"
   ]
  },
  {
   "source": [
    "## Getting Company Earnings"
   ],
   "cell_type": "markdown",
   "metadata": {}
  },
  {
   "cell_type": "code",
   "execution_count": null,
   "metadata": {},
   "outputs": [],
   "source": [
    "def getEarnings(symbol):\n",
    "    stock_batch = Stock(symbol,token=pk_b4a248cdd70d47e1b2050a4127e1fa91)\n",
    "    earnings = stock_batch.get_earnings(last=4)\n",
    "    return earnings\n",
    "\n",
    "single_stock_earnings = getEarnings(sp[\"Symbol\"][0])\n",
    "\n",
    "df_earnings = pd.DataFrame(single_stock_earnings)"
   ]
  },
  {
   "source": [
    "## Getting and Graphing Historical Prices"
   ],
   "cell_type": "markdown",
   "metadata": {}
  },
  {
   "cell_type": "code",
   "execution_count": null,
   "metadata": {},
   "outputs": [],
   "source": [
    "def getHistoricalPrices(stock):\n",
    "    return get_historical_data(stock, start, end, output_format='pandas',token=pk_b4a248cdd70d47e1b2050a4127e1fa91)\n",
    "    \n",
    "start = datetime(2016, 1, 1)\n",
    "end = datetime(2019, 7, 30)\n",
    "single_stock_history = getHistoricalPrices(sp[“Symbol”][0])"
   ]
  }
 ]
}